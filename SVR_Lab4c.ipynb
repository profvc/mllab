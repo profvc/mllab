{
  "nbformat": 4,
  "nbformat_minor": 0,
  "metadata": {
    "colab": {
      "provenance": []
    },
    "kernelspec": {
      "name": "python3",
      "display_name": "Python 3"
    },
    "language_info": {
      "name": "python"
    }
  },
  "cells": [
    {
      "cell_type": "markdown",
      "source": [
        "# **SVM Regression with hyperparameter tuning - Grid Search**"
      ],
      "metadata": {
        "id": "ph9dRURHodHh"
      }
    },
    {
      "cell_type": "markdown",
      "source": [
        "Support Vector Machines (SVMs) are a family of supervised learning algorithms that can be used for both classification and regression tasks. In this lab, we will focus on SVMs for regression.\n",
        "\n",
        "SVMs work by finding a hyperplane that best fits the data in a way that maximises the margin (i.e., the distance between the hyperplane and the closest data points) and minimises the error. In regression, the goal is to predict a continuous target variable rather than classify into categories. Therefore, the hyperplane is selected in such a way that it fits the data as closely as possible while still maintaining the maximum margin.\n",
        "\n",
        "SVMs can handle both linear and nonlinear regression problems by using kernel functions that map the input data into a higher-dimensional feature space, where a linear hyperplane can be used to make predictions. The most commonly used kernel functions are linear, polynomial, radial basis function (RBF), and sigmoid (classification).\n",
        "\n",
        "SVMs are known for their good performance in high-dimensional feature spaces and their ability to handle complex datasets. They are robust to noise and outliers and have a solid theoretical foundation. However, SVMs can be sensitive to the choice of hyperparameters such as the kernel function, regularisation parameter, and kernel bandwidth.\n",
        "\n",
        "In summary, SVMs are powerful and versatile algorithms that can be used for both classification and regression tasks. They are particularly well-suited for high-dimensional feature spaces and complex datasets. However, careful tuning of hyperparameters is required for optimal performance.\n",
        "\n",
        "\n",
        "1. Import/install the necessary packages\n",
        "2. Get the data from Google Drive\n",
        "3. Split the data into training and testing sets\n",
        "4. Robust scaling \n",
        "5. Create an SVM classifier\n",
        "6. Define the hyperparameter grid to search\n",
        "7. Search the hyperparameter grid using GridSearchCV()\n",
        "8. Use the best model provided by the grid search to make predictions on the test data\n",
        "9. Display R2 and MSE\n",
        "10. Obtain the feature importance using permutation_importance() and display the feature importance plot\n"
      ],
      "metadata": {
        "id": "3bl6Pj1mQSnw"
      }
    },
    {
      "cell_type": "markdown",
      "source": [
        "**Import/install the necessary packages**"
      ],
      "metadata": {
        "id": "Hp16VJNZofy5"
      }
    },
    {
      "cell_type": "code",
      "source": [
        "import pandas as pd\n",
        "from sklearn.model_selection import GridSearchCV, train_test_split\n",
        "from sklearn import svm\n",
        "from sklearn.metrics import classification_report, confusion_matrix\n",
        "import seaborn as sns\n",
        "from sklearn.preprocessing import RobustScaler\n",
        "from sklearn.inspection import permutation_importance\n",
        "import matplotlib.pyplot as plt\n",
        "from sklearn.metrics import mean_squared_error, r2_score"
      ],
      "metadata": {
        "id": "ox0U4p1DogMB"
      },
      "execution_count": 1,
      "outputs": []
    },
    {
      "cell_type": "markdown",
      "source": [
        "**Get the data from Google Drive**"
      ],
      "metadata": {
        "id": "6IP9l0NZogYV"
      }
    },
    {
      "cell_type": "code",
      "source": [
        "df = pd.read_csv(\"/content/drive/MyDrive/Colab Notebooks/Data/customer_loyalty_data_Reg.csv\") \n",
        "print(df.info(),'\\n')\n",
        "print(df.head(),'\\n')\n",
        "print(df.describe(),'\\n')"
      ],
      "metadata": {
        "id": "-C4iRDYLogga",
        "colab": {
          "base_uri": "https://localhost:8080/"
        },
        "outputId": "e77dda01-596c-4095-d355-444fab4af50c"
      },
      "execution_count": 2,
      "outputs": [
        {
          "output_type": "stream",
          "name": "stdout",
          "text": [
            "<class 'pandas.core.frame.DataFrame'>\n",
            "RangeIndex: 1000 entries, 0 to 999\n",
            "Data columns (total 7 columns):\n",
            " #   Column                   Non-Null Count  Dtype\n",
            "---  ------                   --------------  -----\n",
            " 0   Age                      1000 non-null   int64\n",
            " 1   Income                   1000 non-null   int64\n",
            " 2   Num_Purchases            1000 non-null   int64\n",
            " 3   Average_Rating           1000 non-null   int64\n",
            " 4   Customer_Service_Rating  1000 non-null   int64\n",
            " 5   Membership_Duration      1000 non-null   int64\n",
            " 6   Loyalty                  1000 non-null   int64\n",
            "dtypes: int64(7)\n",
            "memory usage: 54.8 KB\n",
            "None \n",
            "\n",
            "   Age  Income  Num_Purchases  Average_Rating  Customer_Service_Rating  \\\n",
            "0   63    4528              1               1                        2   \n",
            "1   20    2482             14               1                        5   \n",
            "2   46    1316              1               4                        4   \n",
            "3   52    3024              4               4                        2   \n",
            "4   56    3327             18               4                        4   \n",
            "\n",
            "   Membership_Duration  Loyalty  \n",
            "0                    5       60  \n",
            "1                    3       63  \n",
            "2                    3       51  \n",
            "3                    4       55  \n",
            "4                    8       89   \n",
            "\n",
            "               Age       Income  Num_Purchases  Average_Rating  \\\n",
            "count  1000.000000  1000.000000    1000.000000     1000.000000   \n",
            "mean     41.624000  2931.553000      10.238000        2.999000   \n",
            "std      13.500922  1218.241599       5.481186        1.408184   \n",
            "min      18.000000   802.000000       1.000000        1.000000   \n",
            "25%      31.000000  1951.000000       5.000000        2.000000   \n",
            "50%      42.000000  2904.500000      11.000000        3.000000   \n",
            "75%      53.000000  4006.250000      15.000000        4.000000   \n",
            "max      64.000000  4998.000000      19.000000        5.000000   \n",
            "\n",
            "       Customer_Service_Rating  Membership_Duration      Loyalty  \n",
            "count              1000.000000          1000.000000  1000.000000  \n",
            "mean                  2.978000             4.917000    65.881000  \n",
            "std                   1.397666             2.554337    16.957429  \n",
            "min                   1.000000             1.000000    20.000000  \n",
            "25%                   2.000000             3.000000    52.000000  \n",
            "50%                   3.000000             5.000000    69.000000  \n",
            "75%                   4.000000             7.000000    80.000000  \n",
            "max                   5.000000             9.000000    98.000000   \n",
            "\n"
          ]
        }
      ]
    },
    {
      "cell_type": "markdown",
      "source": [
        "**Split the data into training and testing sets**"
      ],
      "metadata": {
        "id": "gllPGzvrogo3"
      }
    },
    {
      "cell_type": "code",
      "source": [
        "X_train, X_test, y_train, y_test = train_test_split(df.drop('Loyalty', axis=1), df['Loyalty'], test_size=0.2, random_state=50)"
      ],
      "metadata": {
        "id": "rB_o8lAOogwm"
      },
      "execution_count": 3,
      "outputs": []
    },
    {
      "cell_type": "markdown",
      "source": [
        "**Robust scaling**"
      ],
      "metadata": {
        "id": "7rOkEDI3MmI6"
      }
    },
    {
      "cell_type": "code",
      "source": [
        "scaler = RobustScaler()\n",
        "X_train_scaled = scaler.fit_transform(X_train)\n",
        "X_test_scaled = scaler.transform(X_test)"
      ],
      "metadata": {
        "id": "J73TmrfTMmUJ"
      },
      "execution_count": 4,
      "outputs": []
    },
    {
      "cell_type": "markdown",
      "source": [
        "**Create an SVM classifier**"
      ],
      "metadata": {
        "id": "gy4OSa18og42"
      }
    },
    {
      "cell_type": "code",
      "source": [
        "SVR_model = svm.SVR()"
      ],
      "metadata": {
        "id": "3wtijZfMohAa"
      },
      "execution_count": 5,
      "outputs": []
    },
    {
      "cell_type": "markdown",
      "source": [
        "**Define the hyperparameter grid to search**"
      ],
      "metadata": {
        "id": "6X_zpFI05wxl"
      }
    },
    {
      "cell_type": "code",
      "source": [
        "hyperparameters = {'kernel': ['linear'],\n",
        "                   'C': [0.1, 1, 10],\n",
        "                   'gamma': [0.1, 1, 10],\n",
        "                   'epsilon': [0.1, 0.2, 0.5],\n",
        "                   #'degree': [2, 3, 4]\n",
        "                   }"
      ],
      "metadata": {
        "id": "ryaJowVW5w5o"
      },
      "execution_count": 6,
      "outputs": []
    },
    {
      "cell_type": "markdown",
      "source": [
        "**Search the hyperparameter grid using GridSearchCV()**"
      ],
      "metadata": {
        "id": "Go_98QNa54ig"
      }
    },
    {
      "cell_type": "code",
      "source": [
        "grid_search = GridSearchCV(SVR_model, hyperparameters, cv=5)\n",
        "grid_search.fit(X_train_scaled, y_train)"
      ],
      "metadata": {
        "id": "9GBfza3954rH",
        "colab": {
          "base_uri": "https://localhost:8080/",
          "height": 118
        },
        "outputId": "89aea53c-1327-4201-a8a3-4bbedc74e964"
      },
      "execution_count": 7,
      "outputs": [
        {
          "output_type": "execute_result",
          "data": {
            "text/plain": [
              "GridSearchCV(cv=5, estimator=SVR(),\n",
              "             param_grid={'C': [0.1, 1, 10], 'epsilon': [0.1, 0.2, 0.5],\n",
              "                         'gamma': [0.1, 1, 10], 'kernel': ['linear']})"
            ],
            "text/html": [
              "<style>#sk-container-id-1 {color: black;background-color: white;}#sk-container-id-1 pre{padding: 0;}#sk-container-id-1 div.sk-toggleable {background-color: white;}#sk-container-id-1 label.sk-toggleable__label {cursor: pointer;display: block;width: 100%;margin-bottom: 0;padding: 0.3em;box-sizing: border-box;text-align: center;}#sk-container-id-1 label.sk-toggleable__label-arrow:before {content: \"▸\";float: left;margin-right: 0.25em;color: #696969;}#sk-container-id-1 label.sk-toggleable__label-arrow:hover:before {color: black;}#sk-container-id-1 div.sk-estimator:hover label.sk-toggleable__label-arrow:before {color: black;}#sk-container-id-1 div.sk-toggleable__content {max-height: 0;max-width: 0;overflow: hidden;text-align: left;background-color: #f0f8ff;}#sk-container-id-1 div.sk-toggleable__content pre {margin: 0.2em;color: black;border-radius: 0.25em;background-color: #f0f8ff;}#sk-container-id-1 input.sk-toggleable__control:checked~div.sk-toggleable__content {max-height: 200px;max-width: 100%;overflow: auto;}#sk-container-id-1 input.sk-toggleable__control:checked~label.sk-toggleable__label-arrow:before {content: \"▾\";}#sk-container-id-1 div.sk-estimator input.sk-toggleable__control:checked~label.sk-toggleable__label {background-color: #d4ebff;}#sk-container-id-1 div.sk-label input.sk-toggleable__control:checked~label.sk-toggleable__label {background-color: #d4ebff;}#sk-container-id-1 input.sk-hidden--visually {border: 0;clip: rect(1px 1px 1px 1px);clip: rect(1px, 1px, 1px, 1px);height: 1px;margin: -1px;overflow: hidden;padding: 0;position: absolute;width: 1px;}#sk-container-id-1 div.sk-estimator {font-family: monospace;background-color: #f0f8ff;border: 1px dotted black;border-radius: 0.25em;box-sizing: border-box;margin-bottom: 0.5em;}#sk-container-id-1 div.sk-estimator:hover {background-color: #d4ebff;}#sk-container-id-1 div.sk-parallel-item::after {content: \"\";width: 100%;border-bottom: 1px solid gray;flex-grow: 1;}#sk-container-id-1 div.sk-label:hover label.sk-toggleable__label {background-color: #d4ebff;}#sk-container-id-1 div.sk-serial::before {content: \"\";position: absolute;border-left: 1px solid gray;box-sizing: border-box;top: 0;bottom: 0;left: 50%;z-index: 0;}#sk-container-id-1 div.sk-serial {display: flex;flex-direction: column;align-items: center;background-color: white;padding-right: 0.2em;padding-left: 0.2em;position: relative;}#sk-container-id-1 div.sk-item {position: relative;z-index: 1;}#sk-container-id-1 div.sk-parallel {display: flex;align-items: stretch;justify-content: center;background-color: white;position: relative;}#sk-container-id-1 div.sk-item::before, #sk-container-id-1 div.sk-parallel-item::before {content: \"\";position: absolute;border-left: 1px solid gray;box-sizing: border-box;top: 0;bottom: 0;left: 50%;z-index: -1;}#sk-container-id-1 div.sk-parallel-item {display: flex;flex-direction: column;z-index: 1;position: relative;background-color: white;}#sk-container-id-1 div.sk-parallel-item:first-child::after {align-self: flex-end;width: 50%;}#sk-container-id-1 div.sk-parallel-item:last-child::after {align-self: flex-start;width: 50%;}#sk-container-id-1 div.sk-parallel-item:only-child::after {width: 0;}#sk-container-id-1 div.sk-dashed-wrapped {border: 1px dashed gray;margin: 0 0.4em 0.5em 0.4em;box-sizing: border-box;padding-bottom: 0.4em;background-color: white;}#sk-container-id-1 div.sk-label label {font-family: monospace;font-weight: bold;display: inline-block;line-height: 1.2em;}#sk-container-id-1 div.sk-label-container {text-align: center;}#sk-container-id-1 div.sk-container {/* jupyter's `normalize.less` sets `[hidden] { display: none; }` but bootstrap.min.css set `[hidden] { display: none !important; }` so we also need the `!important` here to be able to override the default hidden behavior on the sphinx rendered scikit-learn.org. See: https://github.com/scikit-learn/scikit-learn/issues/21755 */display: inline-block !important;position: relative;}#sk-container-id-1 div.sk-text-repr-fallback {display: none;}</style><div id=\"sk-container-id-1\" class=\"sk-top-container\"><div class=\"sk-text-repr-fallback\"><pre>GridSearchCV(cv=5, estimator=SVR(),\n",
              "             param_grid={&#x27;C&#x27;: [0.1, 1, 10], &#x27;epsilon&#x27;: [0.1, 0.2, 0.5],\n",
              "                         &#x27;gamma&#x27;: [0.1, 1, 10], &#x27;kernel&#x27;: [&#x27;linear&#x27;]})</pre><b>In a Jupyter environment, please rerun this cell to show the HTML representation or trust the notebook. <br />On GitHub, the HTML representation is unable to render, please try loading this page with nbviewer.org.</b></div><div class=\"sk-container\" hidden><div class=\"sk-item sk-dashed-wrapped\"><div class=\"sk-label-container\"><div class=\"sk-label sk-toggleable\"><input class=\"sk-toggleable__control sk-hidden--visually\" id=\"sk-estimator-id-1\" type=\"checkbox\" ><label for=\"sk-estimator-id-1\" class=\"sk-toggleable__label sk-toggleable__label-arrow\">GridSearchCV</label><div class=\"sk-toggleable__content\"><pre>GridSearchCV(cv=5, estimator=SVR(),\n",
              "             param_grid={&#x27;C&#x27;: [0.1, 1, 10], &#x27;epsilon&#x27;: [0.1, 0.2, 0.5],\n",
              "                         &#x27;gamma&#x27;: [0.1, 1, 10], &#x27;kernel&#x27;: [&#x27;linear&#x27;]})</pre></div></div></div><div class=\"sk-parallel\"><div class=\"sk-parallel-item\"><div class=\"sk-item\"><div class=\"sk-label-container\"><div class=\"sk-label sk-toggleable\"><input class=\"sk-toggleable__control sk-hidden--visually\" id=\"sk-estimator-id-2\" type=\"checkbox\" ><label for=\"sk-estimator-id-2\" class=\"sk-toggleable__label sk-toggleable__label-arrow\">estimator: SVR</label><div class=\"sk-toggleable__content\"><pre>SVR()</pre></div></div></div><div class=\"sk-serial\"><div class=\"sk-item\"><div class=\"sk-estimator sk-toggleable\"><input class=\"sk-toggleable__control sk-hidden--visually\" id=\"sk-estimator-id-3\" type=\"checkbox\" ><label for=\"sk-estimator-id-3\" class=\"sk-toggleable__label sk-toggleable__label-arrow\">SVR</label><div class=\"sk-toggleable__content\"><pre>SVR()</pre></div></div></div></div></div></div></div></div></div></div>"
            ]
          },
          "metadata": {},
          "execution_count": 7
        }
      ]
    },
    {
      "cell_type": "markdown",
      "source": [
        "**Use the best model provided by the grid search to make predictions on the test data**"
      ],
      "metadata": {
        "id": "gTDioL0H56js"
      }
    },
    {
      "cell_type": "code",
      "source": [
        "best_reg = grid_search.best_estimator_\n",
        "print(best_reg,'\\n')\n",
        "y_pred = best_reg.predict(X_test_scaled)"
      ],
      "metadata": {
        "id": "PgDTGx5L56r9",
        "colab": {
          "base_uri": "https://localhost:8080/"
        },
        "outputId": "1fcdd057-c9b9-4868-dda1-239b3cd8e8d2"
      },
      "execution_count": 8,
      "outputs": [
        {
          "output_type": "stream",
          "name": "stdout",
          "text": [
            "SVR(C=1, epsilon=0.5, gamma=0.1, kernel='linear') \n",
            "\n"
          ]
        }
      ]
    },
    {
      "cell_type": "markdown",
      "source": [
        "**Display R2 and MSE**"
      ],
      "metadata": {
        "id": "llMItdGyoBmP"
      }
    },
    {
      "cell_type": "code",
      "source": [
        "print(\"MSE: %.2f\" % mean_squared_error(y_test, y_pred))\n",
        "print(\"R2 score: %.2f\" % r2_score(y_test, y_pred))"
      ],
      "metadata": {
        "colab": {
          "base_uri": "https://localhost:8080/"
        },
        "id": "PW2ptGuzoBvY",
        "outputId": "6d6ad0fc-b058-4abb-9d01-e187724fad7c"
      },
      "execution_count": 9,
      "outputs": [
        {
          "output_type": "stream",
          "name": "stdout",
          "text": [
            "MSE: 38.72\n",
            "R2 score: 0.87\n"
          ]
        }
      ]
    },
    {
      "cell_type": "markdown",
      "source": [
        "**Display the feature importance**"
      ],
      "metadata": {
        "id": "4fQPcFKlp1MA"
      }
    },
    {
      "cell_type": "code",
      "source": [
        "# Instantiate a new SVR model with the best hyperparameters\n",
        "# best_svr = svm.SVR(kernel='linear', C=0.1, gamma=0.01, epsilon=0.1)\n",
        "# Fit the model on the training data\n",
        "# best_svr.fit(X_train_scaled, y_train)\n",
        "#result = permutation_importance(best_svr, X_test_scaled, y_test, n_repeats=10, random_state=0)\n",
        "\n",
        "# Compute feature importances using permutation importance\n",
        "result = permutation_importance(best_reg, X_test_scaled, y_test, n_repeats=10, random_state=0)\n",
        "importances = result.importances_mean\n",
        "\n",
        "# Display the Feature Importance\n",
        "plt.bar(range(X_train.shape[1]), importances)\n",
        "feature_names = df.columns.tolist()\n",
        "feature_names.remove(\"Loyalty\")\n",
        "plt.xticks(range(X_train.shape[1]), feature_names, rotation=90)\n",
        "plt.xlabel('Feature')\n",
        "plt.ylabel('Importance')\n",
        "plt.title('Feature Importances')\n",
        "plt.show()"
      ],
      "metadata": {
        "colab": {
          "base_uri": "https://localhost:8080/",
          "height": 635
        },
        "id": "YEi8Qne1p1T_",
        "outputId": "4ea975cf-2e01-400b-f844-4e5a8da5352a"
      },
      "execution_count": 10,
      "outputs": [
        {
          "output_type": "display_data",
          "data": {
            "text/plain": [
              "<Figure size 640x480 with 1 Axes>"
            ],
            "image/png": "[encoded data removed]"
          },
          "metadata": {}
        }
      ]
    },
    {
      "cell_type": "markdown",
      "source": [
        "# **Exercise 1**"
      ],
      "metadata": {
        "id": "EmUB7y2r91lY"
      }
    },
    {
      "cell_type": "markdown",
      "source": [
        "Use the following hyperparameter snippet for the tuning:"
      ],
      "metadata": {
        "id": "CwzJyvRrKdra"
      }
    },
    {
      "cell_type": "code",
      "source": [
        "hyperparameters = {'kernel': ['linear'],\n",
        "                   'C': [0.1, 1, 10],\n",
        "                   'gamma': [0.1, 1, 10],\n",
        "                   'epsilon': [0.1, 0.2, 0.5],\n",
        "                   'degree': [2, 3, 4]\n",
        "                   }"
      ],
      "metadata": {
        "id": "E6yxisjn91tR"
      },
      "execution_count": 11,
      "outputs": []
    },
    {
      "cell_type": "markdown",
      "source": [
        "**Exercise 2**"
      ],
      "metadata": {
        "id": "Fh2eaqqtRBAx"
      }
    },
    {
      "cell_type": "markdown",
      "source": [
        "Use Standardisation instead of Robust scaling"
      ],
      "metadata": {
        "id": "z2fR652HRLNn"
      }
    },
    {
      "cell_type": "code",
      "source": [
        "from sklearn.preprocessing import StandardScaler\n",
        "scaler = StandardScaler()\n",
        "X_train_scaled = scaler.fit_transform(X_train)\n",
        "X_test_scaled = scaler.transform(X_test)\n"
      ],
      "metadata": {
        "id": "5mED2Y9ARBjZ"
      },
      "execution_count": 12,
      "outputs": []
    },
    {
      "cell_type": "markdown",
      "source": [
        "**Exercise 3**"
      ],
      "metadata": {
        "id": "b7VUmvMcRb0D"
      }
    },
    {
      "cell_type": "markdown",
      "source": [
        "Use Min-max scaling instead of Robust scaling"
      ],
      "metadata": {
        "id": "e-ucII8ARcI-"
      }
    },
    {
      "cell_type": "code",
      "source": [
        "from sklearn.preprocessing import MinMaxScaler\n",
        "scaler = MinMaxScaler()\n",
        "X_train_scaled = scaler.fit_transform(X_train)\n",
        "X_test_scaled = scaler.transform(X_test)"
      ],
      "metadata": {
        "id": "HW5_dQRRRcQL"
      },
      "execution_count": 13,
      "outputs": []
    }
  ]
}