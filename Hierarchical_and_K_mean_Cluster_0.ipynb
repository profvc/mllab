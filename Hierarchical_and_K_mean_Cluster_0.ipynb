{
  "nbformat": 4,
  "nbformat_minor": 0,
  "metadata": {
    "colab": {
      "provenance": []
    },
    "kernelspec": {
      "name": "python3",
      "display_name": "Python 3"
    },
    "language_info": {
      "name": "python"
    }
  },
  "cells": [
    {
      "cell_type": "markdown",
      "source": [
        "**1. Hierarchical Cluster Analysis**"
      ],
      "metadata": {
        "id": "KQYwJfdyXYhG"
      }
    },
    {
      "cell_type": "markdown",
      "source": [
        "Hierarchical Cluster Analysis is a clustering technique that groups similar data points into clusters using a tree-like structure called a dendrogram. In other words, this involves creating a hierarchy of nested clusters through a series of merges or splits of the data points. It does not require the user to specify the number of clusters in advance, and can be used to explore the structure of the data at different levels of granularity.\n",
        "\n",
        "In this lab, we will first create a hypothetical dataset and then normalise the data to range between zero and one. Next, we will perform hierarchical clustering using the linkage() function with the ward method, which minimises the variance of the clusters being merged. The resulting linkage matrix L will be used to create the dendrogram using the dendrogram() function. Finally, we will display the dendrogram using matplotlib. The resulting dendrogram will show the hierarchy of the clusters and the distances between them.\n",
        "\n",
        "Steps:\n",
        "1. Import/install the necessary packages.\n",
        "2. Create a hypothetical dataset.\n",
        "3. Normalise the data to range between 0 and 1. \n",
        "4. Compute the pairwise distances between observations using the Euclidean distance.\n",
        "5. Perform hierarchical clustering.\n",
        "6. Display the dendrogram.\n",
        "7. Cluster the assignments.\n",
        "8. Display the dendrogram according to the number of clusters based on distance cut."
      ],
      "metadata": {
        "id": "HLIquvHrXZtS"
      }
    },
    {
      "cell_type": "markdown",
      "source": [
        "**Import/install the necessary packages**"
      ],
      "metadata": {
        "id": "5X_o0LqYmEQA"
      }
    },
    {
      "cell_type": "code",
      "execution_count": 1,
      "metadata": {
        "id": "ZzJzkwuUXUsa"
      },
      "outputs": [],
      "source": [
        "import pandas as pd\n",
        "import numpy as np\n",
        "from scipy.spatial.distance import pdist, squareform\n",
        "from sklearn.preprocessing import MinMaxScaler\n",
        "from scipy.cluster.hierarchy import dendrogram, linkage, fcluster\n",
        "import matplotlib.pyplot as plt"
      ]
    },
    {
      "cell_type": "markdown",
      "source": [
        "**Create a hypothetical dataset**"
      ],
      "metadata": {
        "id": "LtsB9e9slr7H"
      }
    },
    {
      "cell_type": "code",
      "source": [
        "data = {\n",
        "    'x1': [5, 7, 9, 3, 1, 6, 5, 3, 8, 7, 2, 4],\n",
        "    'x2': [10, 9, 6, 3, 2, 1, 8, 5, 2, 4, 9, 7] \n",
        "}\n",
        "df = pd.DataFrame(data)"
      ],
      "metadata": {
        "id": "KcN6OTEKlseG"
      },
      "execution_count": 2,
      "outputs": []
    },
    {
      "cell_type": "markdown",
      "source": [
        "**Normalise the data to range between 0 and 1**"
      ],
      "metadata": {
        "id": "yl6Oufk0o6NS"
      }
    },
    {
      "cell_type": "code",
      "source": [
        "scaler = MinMaxScaler() # Create a MinMaxScaler object\n",
        "normalized_data = scaler.fit_transform(df) # Fit the scaler to the data and transform the data\n",
        "normalized_df = pd.DataFrame(normalized_data, columns=df.columns) # Convert the normalized data back to a DataFrame\n",
        "normalized_df.head(3)"
      ],
      "metadata": {
        "colab": {
          "base_uri": "https://localhost:8080/",
          "height": 143
        },
        "id": "MYFB0Oaio6U2",
        "outputId": "ef301184-2f28-4a97-ee24-72f793e91831"
      },
      "execution_count": 3,
      "outputs": [
        {
          "output_type": "execute_result",
          "data": {
            "text/plain": [
              "     x1        x2\n",
              "0  0.50  1.000000\n",
              "1  0.75  0.888889\n",
              "2  1.00  0.555556"
            ],
            "text/html": [
              "\n",
              "  <div id=\"df-84aaefc0-a1fc-4bad-a466-459494e20334\">\n",
              "    <div class=\"colab-df-container\">\n",
              "      <div>\n",
              "<style scoped>\n",
              "    .dataframe tbody tr th:only-of-type {\n",
              "        vertical-align: middle;\n",
              "    }\n",
              "\n",
              "    .dataframe tbody tr th {\n",
              "        vertical-align: top;\n",
              "    }\n",
              "\n",
              "    .dataframe thead th {\n",
              "        text-align: right;\n",
              "    }\n",
              "</style>\n",
              "<table border=\"1\" class=\"dataframe\">\n",
              "  <thead>\n",
              "    <tr style=\"text-align: right;\">\n",
              "      <th></th>\n",
              "      <th>x1</th>\n",
              "      <th>x2</th>\n",
              "    </tr>\n",
              "  </thead>\n",
              "  <tbody>\n",
              "    <tr>\n",
              "      <th>0</th>\n",
              "      <td>0.50</td>\n",
              "      <td>1.000000</td>\n",
              "    </tr>\n",
              "    <tr>\n",
              "      <th>1</th>\n",
              "      <td>0.75</td>\n",
              "      <td>0.888889</td>\n",
              "    </tr>\n",
              "    <tr>\n",
              "      <th>2</th>\n",
              "      <td>1.00</td>\n",
              "      <td>0.555556</td>\n",
              "    </tr>\n",
              "  </tbody>\n",
              "</table>\n",
              "</div>\n",
              "      <button class=\"colab-df-convert\" onclick=\"convertToInteractive('df-84aaefc0-a1fc-4bad-a466-459494e20334')\"\n",
              "              title=\"Convert this dataframe to an interactive table.\"\n",
              "              style=\"display:none;\">\n",
              "        \n",
              "  <svg xmlns=\"http://www.w3.org/2000/svg\" height=\"24px\"viewBox=\"0 0 24 24\"\n",
              "       width=\"24px\">\n",
              "    <path d=\"M0 0h24v24H0V0z\" fill=\"none\"/>\n",
              "    <path d=\"M18.56 5.44l.94 2.06.94-2.06 2.06-.94-2.06-.94-.94-2.06-.94 2.06-2.06.94zm-11 1L8.5 8.5l.94-2.06 2.06-.94-2.06-.94L8.5 2.5l-.94 2.06-2.06.94zm10 10l.94 2.06.94-2.06 2.06-.94-2.06-.94-.94-2.06-.94 2.06-2.06.94z\"/><path d=\"M17.41 7.96l-1.37-1.37c-.4-.4-.92-.59-1.43-.59-.52 0-1.04.2-1.43.59L10.3 9.45l-7.72 7.72c-.78.78-.78 2.05 0 2.83L4 21.41c.39.39.9.59 1.41.59.51 0 1.02-.2 1.41-.59l7.78-7.78 2.81-2.81c.8-.78.8-2.07 0-2.86zM5.41 20L4 18.59l7.72-7.72 1.47 1.35L5.41 20z\"/>\n",
              "  </svg>\n",
              "      </button>\n",
              "      \n",
              "  <style>\n",
              "    .colab-df-container {\n",
              "      display:flex;\n",
              "      flex-wrap:wrap;\n",
              "      gap: 12px;\n",
              "    }\n",
              "\n",
              "    .colab-df-convert {\n",
              "      background-color: #E8F0FE;\n",
              "      border: none;\n",
              "      border-radius: 50%;\n",
              "      cursor: pointer;\n",
              "      display: none;\n",
              "      fill: #1967D2;\n",
              "      height: 32px;\n",
              "      padding: 0 0 0 0;\n",
              "      width: 32px;\n",
              "    }\n",
              "\n",
              "    .colab-df-convert:hover {\n",
              "      background-color: #E2EBFA;\n",
              "      box-shadow: 0px 1px 2px rgba(60, 64, 67, 0.3), 0px 1px 3px 1px rgba(60, 64, 67, 0.15);\n",
              "      fill: #174EA6;\n",
              "    }\n",
              "\n",
              "    [theme=dark] .colab-df-convert {\n",
              "      background-color: #3B4455;\n",
              "      fill: #D2E3FC;\n",
              "    }\n",
              "\n",
              "    [theme=dark] .colab-df-convert:hover {\n",
              "      background-color: #434B5C;\n",
              "      box-shadow: 0px 1px 3px 1px rgba(0, 0, 0, 0.15);\n",
              "      filter: drop-shadow(0px 1px 2px rgba(0, 0, 0, 0.3));\n",
              "      fill: #FFFFFF;\n",
              "    }\n",
              "  </style>\n",
              "\n",
              "      <script>\n",
              "        const buttonEl =\n",
              "          document.querySelector('#df-84aaefc0-a1fc-4bad-a466-459494e20334 button.colab-df-convert');\n",
              "        buttonEl.style.display =\n",
              "          google.colab.kernel.accessAllowed ? 'block' : 'none';\n",
              "\n",
              "        async function convertToInteractive(key) {\n",
              "          const element = document.querySelector('#df-84aaefc0-a1fc-4bad-a466-459494e20334');\n",
              "          const dataTable =\n",
              "            await google.colab.kernel.invokeFunction('convertToInteractive',\n",
              "                                                     [key], {});\n",
              "          if (!dataTable) return;\n",
              "\n",
              "          const docLinkHtml = 'Like what you see? Visit the ' +\n",
              "            '<a target=\"_blank\" href=https://colab.research.google.com/notebooks/data_table.ipynb>data table notebook</a>'\n",
              "            + ' to learn more about interactive tables.';\n",
              "          element.innerHTML = '';\n",
              "          dataTable['output_type'] = 'display_data';\n",
              "          await google.colab.output.renderOutput(dataTable, element);\n",
              "          const docLink = document.createElement('div');\n",
              "          docLink.innerHTML = docLinkHtml;\n",
              "          element.appendChild(docLink);\n",
              "        }\n",
              "      </script>\n",
              "    </div>\n",
              "  </div>\n",
              "  "
            ]
          },
          "metadata": {},
          "execution_count": 3
        }
      ]
    },
    {
      "cell_type": "markdown",
      "source": [
        "**Compute the pairwise distances between observations** (use the Euclidean distance)"
      ],
      "metadata": {
        "id": "VmoZUhbjul0I"
      }
    },
    {
      "cell_type": "code",
      "source": [
        "distances = pdist(normalized_df, metric='euclidean')"
      ],
      "metadata": {
        "id": "YNf--2jwul-H"
      },
      "execution_count": 4,
      "outputs": []
    },
    {
      "cell_type": "markdown",
      "source": [
        "**Perform hierarchical clustering** (use linkage() function)"
      ],
      "metadata": {
        "id": "8g3ClifSlssr"
      }
    },
    {
      "cell_type": "code",
      "source": [
        "L = linkage(distances, method='ward') # L is the linkage matrix; note you also use directly metric='euclidean' in linkage function"
      ],
      "metadata": {
        "id": "0YGSYHosls3k"
      },
      "execution_count": 5,
      "outputs": []
    },
    {
      "cell_type": "markdown",
      "source": [
        "**Display the dendrogram**"
      ],
      "metadata": {
        "id": "NGvf2vGPltY9"
      }
    },
    {
      "cell_type": "code",
      "source": [
        "plt.figure(figsize=(10, 5))\n",
        "dendrogram(L)\n",
        "plt.title(\"Hierarchical Clustering Dendrogram\")\n",
        "plt.xlabel(\"Data points\")\n",
        "plt.ylabel(\"Distance\")\n",
        "plt.show()"
      ],
      "metadata": {
        "colab": {
          "base_uri": "https://localhost:8080/",
          "height": 491
        },
        "id": "4J8WQ8D1luIn",
        "outputId": "0aa6cf9e-bf46-4204-fc86-46692246d0b2"
      },
      "execution_count": 6,
      "outputs": [
        {
          "output_type": "display_data",
          "data": {
            "text/plain": [
              "<Figure size 1000x500 with 1 Axes>"
            ],
            "image/png": "[encoded data removed]"
          },
          "metadata": {}
        }
      ]
    },
    {
      "cell_type": "markdown",
      "source": [
        "**Cluster the assignments**"
      ],
      "metadata": {
        "id": "oTvkpOCi2Q7v"
      }
    },
    {
      "cell_type": "code",
      "source": [
        "n_clusters = 3 # Assign observations to clusters\n",
        "clusters = fcluster(L, t=n_clusters, criterion='maxclust')\n",
        "print(clusters)"
      ],
      "metadata": {
        "colab": {
          "base_uri": "https://localhost:8080/"
        },
        "id": "y-xQ8t9z2RD1",
        "outputId": "7da1b523-91e7-4657-db85-725dce4fb998"
      },
      "execution_count": 7,
      "outputs": [
        {
          "output_type": "stream",
          "name": "stdout",
          "text": [
            "[1 1 3 2 2 3 1 2 3 3 1 1]\n"
          ]
        }
      ]
    },
    {
      "cell_type": "markdown",
      "source": [
        "**Display the dendrogram according to the number of clusters based on distance cut**"
      ],
      "metadata": {
        "id": "UE08UX8O3edb"
      }
    },
    {
      "cell_type": "code",
      "source": [
        "plt.figure(figsize=(10, 5))\n",
        "dendrogram(L, color_threshold=1, labels=df.index)\n",
        "plt.title('Dendrogram with Clusters')\n",
        "plt.xlabel('Observation Index')\n",
        "plt.ylabel('Distance')\n",
        "plt.show()"
      ],
      "metadata": {
        "colab": {
          "base_uri": "https://localhost:8080/",
          "height": 491
        },
        "id": "XcT9A2pj3eo3",
        "outputId": "2c5755ad-8996-425f-bfef-36c3023884cd"
      },
      "execution_count": 8,
      "outputs": [
        {
          "output_type": "display_data",
          "data": {
            "text/plain": [
              "<Figure size 1000x500 with 1 Axes>"
            ],
            "image/png": "[encoded data removed]"
          },
          "metadata": {}
        }
      ]
    },
    {
      "cell_type": "markdown",
      "source": [
        "**Excercise 1:**"
      ],
      "metadata": {
        "id": "DnxsbMdkluUu"
      }
    },
    {
      "cell_type": "markdown",
      "source": [
        "1.1 Use the following data and find the number of clusters."
      ],
      "metadata": {
        "id": "h4csBy7F0g0J"
      }
    },
    {
      "cell_type": "code",
      "source": [
        "data = {\n",
        "    'z1': [5, 7, 9, 3, 1, 6, 5, 3, 8, 7, 2, 4],\n",
        "    'z2': [10, 9, 6, 3, 2, 1, 8, 5, 2, 4, 9, 7],\n",
        "    'z3': [8, 8, 4, 4, 3, 2, 7, 4, 3, 6, 9, 8]\n",
        "}"
      ],
      "metadata": {
        "id": "f-fHyzvgluhN"
      },
      "execution_count": 9,
      "outputs": []
    },
    {
      "cell_type": "markdown",
      "source": [
        "1.2 Change the color_threshold to 0.2, 0.4, 0.5, 1.2, and 2; and observe the changes in the dendrogram."
      ],
      "metadata": {
        "id": "EG174vTllupS"
      }
    },
    {
      "cell_type": "code",
      "source": [
        "dendrogram(L, color_threshold=1, labels=df.index) "
      ],
      "metadata": {
        "id": "P6xiwhrrluzg",
        "colab": {
          "base_uri": "https://localhost:8080/",
          "height": 1000
        },
        "outputId": "8f488986-b92c-4049-913a-9b4318a85099"
      },
      "execution_count": 10,
      "outputs": [
        {
          "output_type": "execute_result",
          "data": {
            "text/plain": [
              "{'icoord': [[5.0, 5.0, 15.0, 15.0],\n",
              "  [35.0, 35.0, 45.0, 45.0],\n",
              "  [25.0, 25.0, 40.0, 40.0],\n",
              "  [10.0, 10.0, 32.5, 32.5],\n",
              "  [65.0, 65.0, 75.0, 75.0],\n",
              "  [55.0, 55.0, 70.0, 70.0],\n",
              "  [105.0, 105.0, 115.0, 115.0],\n",
              "  [95.0, 95.0, 110.0, 110.0],\n",
              "  [85.0, 85.0, 102.5, 102.5],\n",
              "  [62.5, 62.5, 93.75, 93.75],\n",
              "  [21.25, 21.25, 78.125, 78.125]],\n",
              " 'dcoord': [[0.0, 0.2735793833832251, 0.2735793833832251, 0.0],\n",
              "  [0.0, 0.16724436914989302, 0.16724436914989302, 0.0],\n",
              "  [0.0, 0.40895644067598497, 0.40895644067598497, 0.16724436914989302],\n",
              "  [0.2735793833832251,\n",
              "   0.5204164998665333,\n",
              "   0.5204164998665333,\n",
              "   0.40895644067598497],\n",
              "  [0.0, 0.22222222222222227, 0.22222222222222227, 0.0],\n",
              "  [0.0, 0.38623432619655945, 0.38623432619655945, 0.22222222222222227],\n",
              "  [0.0, 0.25496610764841415, 0.25496610764841415, 0.0],\n",
              "  [0.0, 0.3357359399873313, 0.3357359399873313, 0.25496610764841415],\n",
              "  [0.0, 0.5854239433228179, 0.5854239433228179, 0.3357359399873313],\n",
              "  [0.38623432619655945,\n",
              "   1.1959738578028838,\n",
              "   1.1959738578028838,\n",
              "   0.5854239433228179],\n",
              "  [0.5204164998665333,\n",
              "   1.4410827792738266,\n",
              "   1.4410827792738266,\n",
              "   1.1959738578028838]],\n",
              " 'ivl': [0, 1, 10, 6, 11, 4, 3, 7, 2, 5, 8, 9],\n",
              " 'leaves': [0, 1, 10, 6, 11, 4, 3, 7, 2, 5, 8, 9],\n",
              " 'color_list': ['C1',\n",
              "  'C1',\n",
              "  'C1',\n",
              "  'C1',\n",
              "  'C2',\n",
              "  'C2',\n",
              "  'C3',\n",
              "  'C3',\n",
              "  'C3',\n",
              "  'C0',\n",
              "  'C0'],\n",
              " 'leaves_color_list': ['C1',\n",
              "  'C1',\n",
              "  'C1',\n",
              "  'C1',\n",
              "  'C1',\n",
              "  'C2',\n",
              "  'C2',\n",
              "  'C2',\n",
              "  'C3',\n",
              "  'C3',\n",
              "  'C3',\n",
              "  'C3']}"
            ]
          },
          "metadata": {},
          "execution_count": 10
        },
        {
          "output_type": "display_data",
          "data": {
            "text/plain": [
              "<Figure size 640x480 with 1 Axes>"
            ],
            "image/png": "[encoded data removed]"
          },
          "metadata": {}
        }
      ]
    },
    {
      "cell_type": "markdown",
      "source": [
        "**2. K-means Cluster Analysis**"
      ],
      "metadata": {
        "id": "ASvHhW9zIcZp"
      }
    },
    {
      "cell_type": "markdown",
      "source": [
        "K-means clustering is one of the well-known machine learning algorithms that partitions a dataset into K distinct, non-overlapping clusters based on the attributes of the given data points. The algorithm iteratively assigns each data point to the nearest cluster centroid and then recomputes the centroids based on the mean of the data points in the cluster. The objective of the algorithm is to minimise the sum of the squared distances between each data point and its assigned centroid."
      ],
      "metadata": {
        "id": "TvcEZgQpIcji"
      }
    },
    {
      "cell_type": "code",
      "source": [
        "from sklearn.cluster import KMeans\n",
        "\n",
        "kmeans = KMeans(n_clusters=3)\n",
        "kmeans.fit(normalized_df) # fit k-means object to data\n",
        "labels = kmeans.labels_ # get cluster assignments for each data point\n",
        "df['cluster'] = labels # add cluster labels to dataframe\n",
        "print(df.info(),'\\n')\n",
        "print(df.head(),'\\n')\n",
        "print(df.groupby('cluster').mean())\n",
        "print(df.groupby('cluster').describe())\n",
        "df.groupby('cluster')['x1','x2'].plot.box(vert=False)"
      ],
      "metadata": {
        "colab": {
          "base_uri": "https://localhost:8080/",
          "height": 1000
        },
        "id": "wAdZtu5DIcyF",
        "outputId": "5d467581-87c3-492c-d8f2-267d363622ac"
      },
      "execution_count": 11,
      "outputs": [
        {
          "output_type": "stream",
          "name": "stderr",
          "text": [
            "/usr/local/lib/python3.9/dist-packages/sklearn/cluster/_kmeans.py:870: FutureWarning: The default value of `n_init` will change from 10 to 'auto' in 1.4. Set the value of `n_init` explicitly to suppress the warning\n",
            "  warnings.warn(\n"
          ]
        },
        {
          "output_type": "stream",
          "name": "stdout",
          "text": [
            "<class 'pandas.core.frame.DataFrame'>\n",
            "RangeIndex: 12 entries, 0 to 11\n",
            "Data columns (total 3 columns):\n",
            " #   Column   Non-Null Count  Dtype\n",
            "---  ------   --------------  -----\n",
            " 0   x1       12 non-null     int64\n",
            " 1   x2       12 non-null     int64\n",
            " 2   cluster  12 non-null     int32\n",
            "dtypes: int32(1), int64(2)\n",
            "memory usage: 368.0 bytes\n",
            "None \n",
            "\n",
            "   x1  x2  cluster\n",
            "0   5  10        0\n",
            "1   7   9        0\n",
            "2   9   6        1\n",
            "3   3   3        2\n",
            "4   1   2        2 \n",
            "\n",
            "               x1        x2\n",
            "cluster                    \n",
            "0        4.600000  8.600000\n",
            "1        7.500000  3.250000\n",
            "2        2.333333  3.333333\n",
            "           x1                                                   x2            \\\n",
            "        count      mean       std  min   25%  50%   75%  max count      mean   \n",
            "cluster                                                                        \n",
            "0         5.0  4.600000  1.816590  2.0  4.00  5.0  5.00  7.0   5.0  8.600000   \n",
            "1         4.0  7.500000  1.290994  6.0  6.75  7.5  8.25  9.0   4.0  3.250000   \n",
            "2         3.0  2.333333  1.154701  1.0  2.00  3.0  3.00  3.0   3.0  3.333333   \n",
            "\n",
            "                                              \n",
            "              std  min   25%  50%  75%   max  \n",
            "cluster                                       \n",
            "0        1.140175  7.0  8.00  9.0  9.0  10.0  \n",
            "1        2.217356  1.0  1.75  3.0  4.5   6.0  \n",
            "2        1.527525  2.0  2.50  3.0  4.0   5.0  \n"
          ]
        },
        {
          "output_type": "stream",
          "name": "stderr",
          "text": [
            "<ipython-input-11-2f9725fa6a70>:11: FutureWarning: Indexing with multiple keys (implicitly converted to a tuple of keys) will be deprecated, use a list instead.\n",
            "  df.groupby('cluster')['x1','x2'].plot.box(vert=False)\n"
          ]
        },
        {
          "output_type": "execute_result",
          "data": {
            "text/plain": [
              "cluster\n",
              "0    Axes(0.125,0.11;0.775x0.77)\n",
              "1    Axes(0.125,0.11;0.775x0.77)\n",
              "2    Axes(0.125,0.11;0.775x0.77)\n",
              "dtype: object"
            ]
          },
          "metadata": {},
          "execution_count": 11
        },
        {
          "output_type": "display_data",
          "data": {
            "text/plain": [
              "<Figure size 640x480 with 1 Axes>"
            ],
            "image/png": "[encoded data removed]"
          },
          "metadata": {}
        },
        {
          "output_type": "display_data",
          "data": {
            "text/plain": [
              "<Figure size 640x480 with 1 Axes>"
            ],
            "image/png": "[encoded data removed]"
          },
          "metadata": {}
        },
        {
          "output_type": "display_data",
          "data": {
            "text/plain": [
              "<Figure size 640x480 with 1 Axes>"
            ],
            "image/png": "[encoded data removed]"
          },
          "metadata": {}
        }
      ]
    }
  ]
}