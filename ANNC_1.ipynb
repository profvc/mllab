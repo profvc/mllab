{
  "nbformat": 4,
  "nbformat_minor": 0,
  "metadata": {
    "colab": {
      "provenance": []
    },
    "kernelspec": {
      "name": "python3",
      "display_name": "Python 3"
    },
    "language_info": {
      "name": "python"
    }
  },
  "cells": [
    {
      "cell_type": "markdown",
      "source": [
        "**Artificial Neural Networks - Classification**"
      ],
      "metadata": {
        "id": "7SqFLzRg5yTc"
      }
    },
    {
      "cell_type": "markdown",
      "source": [
        "An Artificial Neural Network (ANN) is a type of machine learning algorithm that is inspired by the structure and function of the human brain. It consists of multiple layers of interconnected nodes, or \"neurons\", that process and transmit information. By training an ANN on a dataset, it can learn to recognise patterns and make predictions on new data. ANNs are commonly used for tasks such as image recognition, NLP, and predictive modelling. \n",
        "In this lab, you will get exposed to customer loyalty score prediction using ANN. \n",
        "\n",
        "1. Import/install the necessary packages\n",
        "2. Get the data from Google Drive\n",
        "3. Calculate summary statistics for categorical data\n",
        "4. Drop unnecessary features\n",
        "5. Missing Data: Fill missing values with the mean for numerical columns\n",
        "6. Missing Data: Fill missing values with the mode for categorical columns\n",
        "7. Calculate summary statistics for categorical data\n",
        "8. Display a box plot for Customer Age\n",
        "9. Removing Outliers: To remove outliers, use a method like Z-score or IQR to detect and remove the extreme values\n",
        "10. Display the box plot again\n",
        "11. Convert the categorical variables to dummy variables\n",
        "12. Standardisation\n",
        "13. Split the data into training and test sets (80:20)\n",
        "14. Import/install the necessary packages\n",
        "15. Model architecture and creation\n",
        "16. Find the best parameters using grid search\n",
        "17. Fit the model with the best hyperparameters and make predictions using the test set\n",
        "18. Print the confusion matrix and performance metrics (classification report)\n",
        "19. Display Feature Importance"
      ],
      "metadata": {
        "id": "n6oCdMEOQIge"
      }
    },
    {
      "cell_type": "markdown",
      "source": [
        "**Import/install the necessary packages**"
      ],
      "metadata": {
        "id": "lhll0gf_FT84"
      }
    },
    {
      "cell_type": "code",
      "execution_count": 157,
      "metadata": {
        "id": "yRf1uypd5rb4"
      },
      "outputs": [],
      "source": [
        "import pandas as pd"
      ]
    },
    {
      "cell_type": "markdown",
      "source": [
        "**Get the data from Google Drive**"
      ],
      "metadata": {
        "id": "4kUm5y606Q-k"
      }
    },
    {
      "cell_type": "code",
      "source": [
        "df = pd.read_csv(\"/content/drive/MyDrive/Colab Notebooks/Data/customer_loyalty_class_data.csv\") \n",
        "print(df.info(),'\\n')\n",
        "print(df.head(),'\\n')\n",
        "print(df.describe(),'\\n')"
      ],
      "metadata": {
        "colab": {
          "base_uri": "https://localhost:8080/"
        },
        "id": "Rs4aOQIM6cSw",
        "outputId": "84834cb2-e8aa-4922-87ba-91bf6107b284"
      },
      "execution_count": 158,
      "outputs": [
        {
          "output_type": "stream",
          "name": "stdout",
          "text": [
            "<class 'pandas.core.frame.DataFrame'>\n",
            "RangeIndex: 1000 entries, 0 to 999\n",
            "Data columns (total 11 columns):\n",
            " #   Column                      Non-Null Count  Dtype  \n",
            "---  ------                      --------------  -----  \n",
            " 0   purchase_frequency          900 non-null    float64\n",
            " 1   avg_order_value             900 non-null    float64\n",
            " 2   customer_satisfaction       900 non-null    float64\n",
            " 3   customer_age                901 non-null    float64\n",
            " 4   customer_gender             900 non-null    object \n",
            " 5   net_promoter_score          900 non-null    float64\n",
            " 6   engagement_level            900 non-null    object \n",
            " 7   loyalty_program_membership  998 non-null    object \n",
            " 8   age_group                   884 non-null    object \n",
            " 9   customer_loyalty_score      1000 non-null   int64  \n",
            " 10  customer_loyalty_class      1000 non-null   object \n",
            "dtypes: float64(5), int64(1), object(5)\n",
            "memory usage: 86.1+ KB\n",
            "None \n",
            "\n",
            "   purchase_frequency  avg_order_value  customer_satisfaction  customer_age  \\\n",
            "0                 1.0             50.0                    4.0          28.0   \n",
            "1                 4.0            125.0                    5.0          48.0   \n",
            "2                 7.0              NaN                    1.0          27.0   \n",
            "3                 5.0             50.0                    1.0          66.0   \n",
            "4                 NaN            125.0                    8.0          65.0   \n",
            "\n",
            "  customer_gender  net_promoter_score engagement_level  \\\n",
            "0          female                 2.0              low   \n",
            "1          female                 0.0             high   \n",
            "2            male                 5.0              low   \n",
            "3          female                 9.0              low   \n",
            "4            male                 1.0              NaN   \n",
            "\n",
            "  loyalty_program_membership age_group  customer_loyalty_score  \\\n",
            "0                        YES       NaN                      76   \n",
            "1                         NO     46-55                      67   \n",
            "2                        YES     26-35                      80   \n",
            "3                         NO     66-70                      50   \n",
            "4                         NO     56-65                      61   \n",
            "\n",
            "  customer_loyalty_class  \n",
            "0                  Loyal  \n",
            "1                  Loyal  \n",
            "2                  Loyal  \n",
            "3               NonLoyal  \n",
            "4                  Loyal   \n",
            "\n",
            "       purchase_frequency  avg_order_value  customer_satisfaction  \\\n",
            "count          900.000000       900.000000             900.000000   \n",
            "mean             5.610000       143.027778               5.400000   \n",
            "std              2.909864        72.242595               2.933069   \n",
            "min              1.000000        25.000000               1.000000   \n",
            "25%              3.000000        75.000000               3.000000   \n",
            "50%              6.000000       150.000000               5.000000   \n",
            "75%              8.000000       200.000000               8.000000   \n",
            "max             10.000000       250.000000              10.000000   \n",
            "\n",
            "       customer_age  net_promoter_score  customer_loyalty_score  \n",
            "count    901.000000          900.000000             1000.000000  \n",
            "mean      43.677026            5.031111               50.990000  \n",
            "std       15.145334            3.130305               20.744644  \n",
            "min       18.000000            0.000000                0.000000  \n",
            "25%       30.000000            2.000000               36.000000  \n",
            "50%       44.000000            5.000000               51.000000  \n",
            "75%       56.000000            8.000000               66.000000  \n",
            "max      102.000000           10.000000              100.000000   \n",
            "\n"
          ]
        }
      ]
    },
    {
      "cell_type": "markdown",
      "source": [
        "**Calculate summary statistics for categorical data**"
      ],
      "metadata": {
        "id": "DR_asBDeGJ39"
      }
    },
    {
      "cell_type": "code",
      "source": [
        "for col in df.select_dtypes(include='object').columns:\n",
        "    print(f\"{col}:\\n{df[col].value_counts()}\\n\")"
      ],
      "metadata": {
        "colab": {
          "base_uri": "https://localhost:8080/"
        },
        "id": "qX_oB93iVqvM",
        "outputId": "ad278373-b757-49fb-c70f-5d325666743e"
      },
      "execution_count": 159,
      "outputs": [
        {
          "output_type": "stream",
          "name": "stdout",
          "text": [
            "customer_gender:\n",
            "male      478\n",
            "female    422\n",
            "Name: customer_gender, dtype: int64\n",
            "\n",
            "engagement_level:\n",
            "low       313\n",
            "high      298\n",
            "medium    289\n",
            "Name: engagement_level, dtype: int64\n",
            "\n",
            "loyalty_program_membership:\n",
            "NO     541\n",
            "YES    457\n",
            "Name: loyalty_program_membership, dtype: int64\n",
            "\n",
            "age_group:\n",
            "46-55    177\n",
            "26-35    172\n",
            "56-65    169\n",
            "36-45    168\n",
            "18-25    134\n",
            "66-70     64\n",
            "Name: age_group, dtype: int64\n",
            "\n",
            "customer_loyalty_class:\n",
            "NonLoyal    676\n",
            "Loyal       324\n",
            "Name: customer_loyalty_class, dtype: int64\n",
            "\n"
          ]
        }
      ]
    },
    {
      "cell_type": "markdown",
      "source": [
        "**Drop unnecessary features**"
      ],
      "metadata": {
        "id": "oUurclAR7WRY"
      }
    },
    {
      "cell_type": "code",
      "source": [
        "df.drop(['age_group','customer_loyalty_score'], axis=1, inplace=True)\n",
        "df.info()"
      ],
      "metadata": {
        "colab": {
          "base_uri": "https://localhost:8080/"
        },
        "id": "sA63Qf3K7WYa",
        "outputId": "5b2faca8-a9c7-4c66-c1c0-7aa4ee20e4f4"
      },
      "execution_count": 160,
      "outputs": [
        {
          "output_type": "stream",
          "name": "stdout",
          "text": [
            "<class 'pandas.core.frame.DataFrame'>\n",
            "RangeIndex: 1000 entries, 0 to 999\n",
            "Data columns (total 9 columns):\n",
            " #   Column                      Non-Null Count  Dtype  \n",
            "---  ------                      --------------  -----  \n",
            " 0   purchase_frequency          900 non-null    float64\n",
            " 1   avg_order_value             900 non-null    float64\n",
            " 2   customer_satisfaction       900 non-null    float64\n",
            " 3   customer_age                901 non-null    float64\n",
            " 4   customer_gender             900 non-null    object \n",
            " 5   net_promoter_score          900 non-null    float64\n",
            " 6   engagement_level            900 non-null    object \n",
            " 7   loyalty_program_membership  998 non-null    object \n",
            " 8   customer_loyalty_class      1000 non-null   object \n",
            "dtypes: float64(5), object(4)\n",
            "memory usage: 70.4+ KB\n"
          ]
        }
      ]
    },
    {
      "cell_type": "markdown",
      "source": [
        "**Missing Data:  Fill missing values with the mean for numerical columns**"
      ],
      "metadata": {
        "id": "ZERUy2OJ9e3T"
      }
    },
    {
      "cell_type": "code",
      "source": [
        "for col in df.select_dtypes(include=['int', 'float']).columns:\n",
        "    df[col].fillna(df[col].mean(), inplace=True)\n",
        "    \n",
        "print(df.describe(),'\\n')"
      ],
      "metadata": {
        "colab": {
          "base_uri": "https://localhost:8080/"
        },
        "id": "Ar6JuVzh-XV5",
        "outputId": "7238bc2f-b76c-45cd-ec33-7f6df0a8407d"
      },
      "execution_count": 161,
      "outputs": [
        {
          "output_type": "stream",
          "name": "stdout",
          "text": [
            "       purchase_frequency  avg_order_value  customer_satisfaction  \\\n",
            "count         1000.000000      1000.000000            1000.000000   \n",
            "mean             5.610000       143.027778               5.400000   \n",
            "std              2.760386        68.531532               2.782399   \n",
            "min              1.000000        25.000000               1.000000   \n",
            "25%              3.000000       100.000000               3.000000   \n",
            "50%              5.610000       143.027778               5.400000   \n",
            "75%              8.000000       200.000000               8.000000   \n",
            "max             10.000000       250.000000              10.000000   \n",
            "\n",
            "       customer_age  net_promoter_score  \n",
            "count   1000.000000         1000.000000  \n",
            "mean      43.677026            5.031111  \n",
            "std       14.375314            2.969503  \n",
            "min       18.000000            0.000000  \n",
            "25%       32.000000            3.000000  \n",
            "50%       43.677026            5.031111  \n",
            "75%       55.000000            7.000000  \n",
            "max      102.000000           10.000000   \n",
            "\n"
          ]
        }
      ]
    },
    {
      "cell_type": "markdown",
      "source": [
        "**Missing Data: Fill missing values with the mode for categorical columns**"
      ],
      "metadata": {
        "id": "pp6I-CdJWATc"
      }
    },
    {
      "cell_type": "code",
      "source": [
        "for col in df.select_dtypes(include='object').columns:\n",
        "    df[col].fillna(df[col].mode()[0], inplace=True)"
      ],
      "metadata": {
        "id": "zbtea3Uc9fAm"
      },
      "execution_count": 162,
      "outputs": []
    },
    {
      "cell_type": "markdown",
      "source": [
        "**Calculate summary statistics for categorical data**"
      ],
      "metadata": {
        "id": "X-cKtMNeVX4d"
      }
    },
    {
      "cell_type": "code",
      "source": [
        "for col in df.select_dtypes(include='object').columns:\n",
        "    print(f\"{col}:\\n{df[col].value_counts()}\\n\")"
      ],
      "metadata": {
        "colab": {
          "base_uri": "https://localhost:8080/"
        },
        "id": "MxHEnELEVX_z",
        "outputId": "72af4efd-4e4c-455b-fce7-2dc330806cf8"
      },
      "execution_count": 163,
      "outputs": [
        {
          "output_type": "stream",
          "name": "stdout",
          "text": [
            "customer_gender:\n",
            "male      578\n",
            "female    422\n",
            "Name: customer_gender, dtype: int64\n",
            "\n",
            "engagement_level:\n",
            "low       413\n",
            "high      298\n",
            "medium    289\n",
            "Name: engagement_level, dtype: int64\n",
            "\n",
            "loyalty_program_membership:\n",
            "NO     543\n",
            "YES    457\n",
            "Name: loyalty_program_membership, dtype: int64\n",
            "\n",
            "customer_loyalty_class:\n",
            "NonLoyal    676\n",
            "Loyal       324\n",
            "Name: customer_loyalty_class, dtype: int64\n",
            "\n"
          ]
        }
      ]
    },
    {
      "cell_type": "markdown",
      "source": [
        "**Display a box plot for Customer Age**"
      ],
      "metadata": {
        "id": "ttjlAwijC6Zw"
      }
    },
    {
      "cell_type": "code",
      "source": [
        "import matplotlib.pyplot as plt\n",
        "\n",
        "plt.boxplot(df['customer_age'],vert=False)\n",
        "plt.title('Box plot of customer_age')\n",
        "plt.ylabel('customer_age')\n",
        "plt.show()\n",
        "print(df.customer_age.describe(),'\\n')"
      ],
      "metadata": {
        "colab": {
          "base_uri": "https://localhost:8080/",
          "height": 626
        },
        "id": "08_q_KQCC6hg",
        "outputId": "1ec14f6c-cace-46a5-cca5-ae1ccc6037e1"
      },
      "execution_count": 164,
      "outputs": [
        {
          "output_type": "display_data",
          "data": {
            "text/plain": [
              "<Figure size 640x480 with 1 Axes>"
            ],
            "image/png": "[encoded data removed]"
          },
          "metadata": {}
        },
        {
          "output_type": "stream",
          "name": "stdout",
          "text": [
            "count    1000.000000\n",
            "mean       43.677026\n",
            "std        14.375314\n",
            "min        18.000000\n",
            "25%        32.000000\n",
            "50%        43.677026\n",
            "75%        55.000000\n",
            "max       102.000000\n",
            "Name: customer_age, dtype: float64 \n",
            "\n"
          ]
        }
      ]
    },
    {
      "cell_type": "markdown",
      "source": [
        "** Removing Outliers:\n",
        "To remove outliers, use a method like Z-score or IQR to detect and remove the extreme values. **"
      ],
      "metadata": {
        "id": "mqiLHUiGCJ7Z"
      }
    },
    {
      "cell_type": "code",
      "source": [
        "from scipy import stats\n",
        "\n",
        "# Calculate Z-score for customer_age column\n",
        "z_scores = stats.zscore(df['customer_age'])\n",
        "plt.boxplot(z_scores,vert=False)\n",
        "\n",
        "# Reatin rows with Z-score greater than -3 or less than +3\n",
        "df = df[(z_scores >= -3) & (z_scores <= 3)]\n"
      ],
      "metadata": {
        "colab": {
          "base_uri": "https://localhost:8080/",
          "height": 430
        },
        "id": "R_RdL3y-CKCl",
        "outputId": "ce69c9e7-a58a-4369-be01-9f8caec3b607"
      },
      "execution_count": 165,
      "outputs": [
        {
          "output_type": "display_data",
          "data": {
            "text/plain": [
              "<Figure size 640x480 with 1 Axes>"
            ],
            "image/png": "[encoded data removed]"
          },
          "metadata": {}
        }
      ]
    },
    {
      "cell_type": "markdown",
      "source": [
        "**Display the box plot again**"
      ],
      "metadata": {
        "id": "vp34UOdbDw7J"
      }
    },
    {
      "cell_type": "code",
      "source": [
        "plt.boxplot(df['customer_age'],vert=False)\n",
        "plt.title('Box plot of customer_age')\n",
        "plt.ylabel('customer_age')\n",
        "plt.show()\n",
        "print(df.customer_age.describe(),'\\n')"
      ],
      "metadata": {
        "colab": {
          "base_uri": "https://localhost:8080/",
          "height": 626
        },
        "id": "No9cFRmDDxBo",
        "outputId": "90522806-958c-4a16-8271-c8fb18c7a9d2"
      },
      "execution_count": 166,
      "outputs": [
        {
          "output_type": "display_data",
          "data": {
            "text/plain": [
              "<Figure size 640x480 with 1 Axes>"
            ],
            "image/png": "[encoded data removed]"
          },
          "metadata": {}
        },
        {
          "output_type": "stream",
          "name": "stdout",
          "text": [
            "count    997.000000\n",
            "mean      43.511560\n",
            "std       14.075224\n",
            "min       18.000000\n",
            "25%       32.000000\n",
            "50%       43.677026\n",
            "75%       55.000000\n",
            "max       69.000000\n",
            "Name: customer_age, dtype: float64 \n",
            "\n"
          ]
        }
      ]
    },
    {
      "cell_type": "code",
      "source": [
        "print(df.describe(),'\\n')"
      ],
      "metadata": {
        "colab": {
          "base_uri": "https://localhost:8080/"
        },
        "id": "6uY7WklPLd4U",
        "outputId": "c807424b-6f59-4986-a641-9551ca686c9b"
      },
      "execution_count": 167,
      "outputs": [
        {
          "output_type": "stream",
          "name": "stdout",
          "text": [
            "       purchase_frequency  avg_order_value  customer_satisfaction  \\\n",
            "count          997.000000       997.000000             997.000000   \n",
            "mean             5.610832       142.988716               5.400201   \n",
            "std              2.759288        68.608531               2.780331   \n",
            "min              1.000000        25.000000               1.000000   \n",
            "25%              3.000000       100.000000               3.000000   \n",
            "50%              5.610000       143.027778               5.400000   \n",
            "75%              8.000000       200.000000               8.000000   \n",
            "max             10.000000       250.000000              10.000000   \n",
            "\n",
            "       customer_age  net_promoter_score  \n",
            "count    997.000000          997.000000  \n",
            "mean      43.511560            5.034214  \n",
            "std       14.075224            2.966332  \n",
            "min       18.000000            0.000000  \n",
            "25%       32.000000            3.000000  \n",
            "50%       43.677026            5.031111  \n",
            "75%       55.000000            7.000000  \n",
            "max       69.000000           10.000000   \n",
            "\n"
          ]
        }
      ]
    },
    {
      "cell_type": "code",
      "source": [
        "df.info()"
      ],
      "metadata": {
        "colab": {
          "base_uri": "https://localhost:8080/"
        },
        "id": "Wa3BWlewAnAa",
        "outputId": "3f42b77e-4d0b-45b6-c794-862c622e2384"
      },
      "execution_count": 168,
      "outputs": [
        {
          "output_type": "stream",
          "name": "stdout",
          "text": [
            "<class 'pandas.core.frame.DataFrame'>\n",
            "Int64Index: 997 entries, 0 to 996\n",
            "Data columns (total 9 columns):\n",
            " #   Column                      Non-Null Count  Dtype  \n",
            "---  ------                      --------------  -----  \n",
            " 0   purchase_frequency          997 non-null    float64\n",
            " 1   avg_order_value             997 non-null    float64\n",
            " 2   customer_satisfaction       997 non-null    float64\n",
            " 3   customer_age                997 non-null    float64\n",
            " 4   customer_gender             997 non-null    object \n",
            " 5   net_promoter_score          997 non-null    float64\n",
            " 6   engagement_level            997 non-null    object \n",
            " 7   loyalty_program_membership  997 non-null    object \n",
            " 8   customer_loyalty_class      997 non-null    object \n",
            "dtypes: float64(5), object(4)\n",
            "memory usage: 77.9+ KB\n"
          ]
        }
      ]
    },
    {
      "cell_type": "markdown",
      "source": [
        "**Convert the categorical variables to dummy variables**"
      ],
      "metadata": {
        "id": "XPnReyqeXGts"
      }
    },
    {
      "cell_type": "code",
      "source": [
        "df = pd.get_dummies(df, drop_first=False)\n",
        "df.info()"
      ],
      "metadata": {
        "colab": {
          "base_uri": "https://localhost:8080/"
        },
        "id": "MAIBKN8lXGzz",
        "outputId": "36df299e-079f-4c1b-8dfc-0e3b1620e73d"
      },
      "execution_count": 169,
      "outputs": [
        {
          "output_type": "stream",
          "name": "stdout",
          "text": [
            "<class 'pandas.core.frame.DataFrame'>\n",
            "Int64Index: 997 entries, 0 to 996\n",
            "Data columns (total 14 columns):\n",
            " #   Column                           Non-Null Count  Dtype  \n",
            "---  ------                           --------------  -----  \n",
            " 0   purchase_frequency               997 non-null    float64\n",
            " 1   avg_order_value                  997 non-null    float64\n",
            " 2   customer_satisfaction            997 non-null    float64\n",
            " 3   customer_age                     997 non-null    float64\n",
            " 4   net_promoter_score               997 non-null    float64\n",
            " 5   customer_gender_female           997 non-null    uint8  \n",
            " 6   customer_gender_male             997 non-null    uint8  \n",
            " 7   engagement_level_high            997 non-null    uint8  \n",
            " 8   engagement_level_low             997 non-null    uint8  \n",
            " 9   engagement_level_medium          997 non-null    uint8  \n",
            " 10  loyalty_program_membership_NO    997 non-null    uint8  \n",
            " 11  loyalty_program_membership_YES   997 non-null    uint8  \n",
            " 12  customer_loyalty_class_Loyal     997 non-null    uint8  \n",
            " 13  customer_loyalty_class_NonLoyal  997 non-null    uint8  \n",
            "dtypes: float64(5), uint8(9)\n",
            "memory usage: 55.5 KB\n"
          ]
        }
      ]
    },
    {
      "cell_type": "code",
      "source": [
        "print(df.columns)\n",
        "print(df.describe())"
      ],
      "metadata": {
        "colab": {
          "base_uri": "https://localhost:8080/"
        },
        "id": "x6DK1qdUrq6u",
        "outputId": "b92189a7-33b9-4df4-b74b-c4a536b80846"
      },
      "execution_count": 170,
      "outputs": [
        {
          "output_type": "stream",
          "name": "stdout",
          "text": [
            "Index(['purchase_frequency', 'avg_order_value', 'customer_satisfaction',\n",
            "       'customer_age', 'net_promoter_score', 'customer_gender_female',\n",
            "       'customer_gender_male', 'engagement_level_high', 'engagement_level_low',\n",
            "       'engagement_level_medium', 'loyalty_program_membership_NO',\n",
            "       'loyalty_program_membership_YES', 'customer_loyalty_class_Loyal',\n",
            "       'customer_loyalty_class_NonLoyal'],\n",
            "      dtype='object')\n",
            "       purchase_frequency  avg_order_value  customer_satisfaction  \\\n",
            "count          997.000000       997.000000             997.000000   \n",
            "mean             5.610832       142.988716               5.400201   \n",
            "std              2.759288        68.608531               2.780331   \n",
            "min              1.000000        25.000000               1.000000   \n",
            "25%              3.000000       100.000000               3.000000   \n",
            "50%              5.610000       143.027778               5.400000   \n",
            "75%              8.000000       200.000000               8.000000   \n",
            "max             10.000000       250.000000              10.000000   \n",
            "\n",
            "       customer_age  net_promoter_score  customer_gender_female  \\\n",
            "count    997.000000          997.000000              997.000000   \n",
            "mean      43.511560            5.034214                0.421264   \n",
            "std       14.075224            2.966332                0.494010   \n",
            "min       18.000000            0.000000                0.000000   \n",
            "25%       32.000000            3.000000                0.000000   \n",
            "50%       43.677026            5.031111                0.000000   \n",
            "75%       55.000000            7.000000                1.000000   \n",
            "max       69.000000           10.000000                1.000000   \n",
            "\n",
            "       customer_gender_male  engagement_level_high  engagement_level_low  \\\n",
            "count            997.000000             997.000000            997.000000   \n",
            "mean               0.578736               0.296891              0.413240   \n",
            "std                0.494010               0.457117              0.492662   \n",
            "min                0.000000               0.000000              0.000000   \n",
            "25%                0.000000               0.000000              0.000000   \n",
            "50%                1.000000               0.000000              0.000000   \n",
            "75%                1.000000               1.000000              1.000000   \n",
            "max                1.000000               1.000000              1.000000   \n",
            "\n",
            "       engagement_level_medium  loyalty_program_membership_NO  \\\n",
            "count               997.000000                     997.000000   \n",
            "mean                  0.289870                       0.543631   \n",
            "std                   0.453929                       0.498343   \n",
            "min                   0.000000                       0.000000   \n",
            "25%                   0.000000                       0.000000   \n",
            "50%                   0.000000                       1.000000   \n",
            "75%                   1.000000                       1.000000   \n",
            "max                   1.000000                       1.000000   \n",
            "\n",
            "       loyalty_program_membership_YES  customer_loyalty_class_Loyal  \\\n",
            "count                      997.000000                    997.000000   \n",
            "mean                         0.456369                      0.324975   \n",
            "std                          0.498343                      0.468601   \n",
            "min                          0.000000                      0.000000   \n",
            "25%                          0.000000                      0.000000   \n",
            "50%                          0.000000                      0.000000   \n",
            "75%                          1.000000                      1.000000   \n",
            "max                          1.000000                      1.000000   \n",
            "\n",
            "       customer_loyalty_class_NonLoyal  \n",
            "count                       997.000000  \n",
            "mean                          0.675025  \n",
            "std                           0.468601  \n",
            "min                           0.000000  \n",
            "25%                           0.000000  \n",
            "50%                           1.000000  \n",
            "75%                           1.000000  \n",
            "max                           1.000000  \n"
          ]
        }
      ]
    },
    {
      "cell_type": "markdown",
      "source": [
        "**Standardisation**"
      ],
      "metadata": {
        "id": "5lqJVxpQpM8K"
      }
    },
    {
      "cell_type": "code",
      "source": [
        "from sklearn.preprocessing import StandardScaler\n",
        "  \n",
        "# Separate the dummy variables from the numerical variables\n",
        "dummy_cols = df.select_dtypes(include='uint8').columns\n",
        "num_cols = list(set(df.select_dtypes(include=['float64', 'int64']).columns) - set(dummy_cols))\n",
        "\n",
        "# Standardize the numerical variables\n",
        "scaler = StandardScaler()\n",
        "df[num_cols] = scaler.fit_transform(df[num_cols])\n",
        "\n",
        "# Combine the standardized numerical variables with the dummy variables\n",
        "df_std = pd.concat([df[num_cols], df[dummy_cols]], axis=1)\n",
        "\n",
        "print(df_std.head(5),'\\n')\n",
        "print(df_std.describe(),'\\n')"
      ],
      "metadata": {
        "colab": {
          "base_uri": "https://localhost:8080/"
        },
        "id": "lcWsEgV2pNDi",
        "outputId": "4c8bb1c0-5a8d-4c2e-a4c4-7bfb0d159e94"
      },
      "execution_count": 171,
      "outputs": [
        {
          "output_type": "stream",
          "name": "stdout",
          "text": [
            "   customer_satisfaction  net_promoter_score  customer_age  avg_order_value  \\\n",
            "0              -0.503862           -1.023397     -1.102600        -1.356032   \n",
            "1              -0.144012           -1.697969      0.319049        -0.262325   \n",
            "2              -1.583412           -0.011540     -1.173683         0.000570   \n",
            "3              -1.583412            1.337604      1.598534        -1.356032   \n",
            "4               0.935538           -1.360683      1.527452        -0.262325   \n",
            "\n",
            "   purchase_frequency  customer_gender_female  customer_gender_male  \\\n",
            "0           -1.671862                       1                     0   \n",
            "1           -0.584079                       1                     0   \n",
            "2            0.503704                       0                     1   \n",
            "3           -0.221484                       1                     0   \n",
            "4           -0.000302                       0                     1   \n",
            "\n",
            "   engagement_level_high  engagement_level_low  engagement_level_medium  \\\n",
            "0                      0                     1                        0   \n",
            "1                      1                     0                        0   \n",
            "2                      0                     1                        0   \n",
            "3                      0                     1                        0   \n",
            "4                      0                     1                        0   \n",
            "\n",
            "   loyalty_program_membership_NO  loyalty_program_membership_YES  \\\n",
            "0                              0                               1   \n",
            "1                              1                               0   \n",
            "2                              0                               1   \n",
            "3                              1                               0   \n",
            "4                              1                               0   \n",
            "\n",
            "   customer_loyalty_class_Loyal  customer_loyalty_class_NonLoyal  \n",
            "0                             1                                0  \n",
            "1                             1                                0  \n",
            "2                             1                                0  \n",
            "3                             0                                1  \n",
            "4                             1                                0   \n",
            "\n",
            "       customer_satisfaction  net_promoter_score  customer_age  \\\n",
            "count           9.970000e+02        9.970000e+02  9.970000e+02   \n",
            "mean            9.086680e-17       -6.770467e-17  3.973195e-16   \n",
            "std             1.000502e+00        1.000502e+00  1.000502e+00   \n",
            "min            -1.583412e+00       -1.697969e+00 -1.813425e+00   \n",
            "25%            -8.637120e-01       -6.861115e-01 -8.182703e-01   \n",
            "50%            -7.218654e-05       -1.046477e-03  1.176169e-02   \n",
            "75%             9.355376e-01        6.630319e-01  8.166269e-01   \n",
            "max             1.655237e+00        1.674889e+00  1.811782e+00   \n",
            "\n",
            "       avg_order_value  purchase_frequency  customer_gender_female  \\\n",
            "count     9.970000e+02        9.970000e+02              997.000000   \n",
            "mean     -1.888604e-16       -9.264850e-17                0.421264   \n",
            "std       1.000502e+00        1.000502e+00                0.494010   \n",
            "min      -1.720601e+00       -1.671862e+00                0.000000   \n",
            "25%      -6.268942e-01       -9.466729e-01                0.000000   \n",
            "50%       5.696264e-04       -3.018588e-04                0.000000   \n",
            "75%       8.313820e-01        8.662985e-01                1.000000   \n",
            "max       1.560520e+00        1.591487e+00                1.000000   \n",
            "\n",
            "       customer_gender_male  engagement_level_high  engagement_level_low  \\\n",
            "count            997.000000             997.000000            997.000000   \n",
            "mean               0.578736               0.296891              0.413240   \n",
            "std                0.494010               0.457117              0.492662   \n",
            "min                0.000000               0.000000              0.000000   \n",
            "25%                0.000000               0.000000              0.000000   \n",
            "50%                1.000000               0.000000              0.000000   \n",
            "75%                1.000000               1.000000              1.000000   \n",
            "max                1.000000               1.000000              1.000000   \n",
            "\n",
            "       engagement_level_medium  loyalty_program_membership_NO  \\\n",
            "count               997.000000                     997.000000   \n",
            "mean                  0.289870                       0.543631   \n",
            "std                   0.453929                       0.498343   \n",
            "min                   0.000000                       0.000000   \n",
            "25%                   0.000000                       0.000000   \n",
            "50%                   0.000000                       1.000000   \n",
            "75%                   1.000000                       1.000000   \n",
            "max                   1.000000                       1.000000   \n",
            "\n",
            "       loyalty_program_membership_YES  customer_loyalty_class_Loyal  \\\n",
            "count                      997.000000                    997.000000   \n",
            "mean                         0.456369                      0.324975   \n",
            "std                          0.498343                      0.468601   \n",
            "min                          0.000000                      0.000000   \n",
            "25%                          0.000000                      0.000000   \n",
            "50%                          0.000000                      0.000000   \n",
            "75%                          1.000000                      1.000000   \n",
            "max                          1.000000                      1.000000   \n",
            "\n",
            "       customer_loyalty_class_NonLoyal  \n",
            "count                       997.000000  \n",
            "mean                          0.675025  \n",
            "std                           0.468601  \n",
            "min                           0.000000  \n",
            "25%                           0.000000  \n",
            "50%                           1.000000  \n",
            "75%                           1.000000  \n",
            "max                           1.000000   \n",
            "\n"
          ]
        }
      ]
    },
    {
      "cell_type": "markdown",
      "source": [
        "**Split the data into training and test sets (80:20)**"
      ],
      "metadata": {
        "id": "VzZ61yzTgrz6"
      }
    },
    {
      "cell_type": "code",
      "source": [
        "from sklearn.model_selection import train_test_split\n",
        "X_train, X_test, y_train, y_test = train_test_split(df_std.drop(['customer_loyalty_class_Loyal',\n",
        "       'customer_loyalty_class_NonLoyal'], axis=1), df_std[['customer_loyalty_class_Loyal']], test_size=0.2, random_state=50)\n",
        "y_test.shape"
      ],
      "metadata": {
        "id": "RXL35iQlgr6a",
        "colab": {
          "base_uri": "https://localhost:8080/"
        },
        "outputId": "9b1f6b56-c8c8-41e1-b018-c48aed6a1999"
      },
      "execution_count": 172,
      "outputs": [
        {
          "output_type": "execute_result",
          "data": {
            "text/plain": [
              "(200, 1)"
            ]
          },
          "metadata": {},
          "execution_count": 172
        }
      ]
    },
    {
      "cell_type": "markdown",
      "source": [
        "**Import/install the necessary packages**"
      ],
      "metadata": {
        "id": "F3OcZMlqw9zw"
      }
    },
    {
      "cell_type": "code",
      "source": [
        "!pip install scikeras\n",
        "import scikeras as sk\n",
        "from sklearn.metrics import mean_squared_error, r2_score\n",
        "from keras.models import Sequential\n",
        "from keras.layers import Dense\n",
        "from keras.callbacks import EarlyStopping\n",
        "#from scikeras.wrappers import KerasRegressor\n",
        "#from keras.wrappers.scikit_learn import KerasClassifier\n",
        "from sklearn.model_selection import GridSearchCV\n",
        "from scikeras.wrappers import KerasClassifier"
      ],
      "metadata": {
        "colab": {
          "base_uri": "https://localhost:8080/"
        },
        "id": "PBlU0q0Gw96y",
        "outputId": "e5019c18-734d-4610-db87-5c56a5bb3889"
      },
      "execution_count": 173,
      "outputs": [
        {
          "output_type": "stream",
          "name": "stdout",
          "text": [
            "Looking in indexes: https://pypi.org/simple, https://us-python.pkg.dev/colab-wheels/public/simple/\n",
            "Requirement already satisfied: scikeras in /usr/local/lib/python3.9/dist-packages (0.10.0)\n",
            "Requirement already satisfied: scikit-learn>=1.0.0 in /usr/local/lib/python3.9/dist-packages (from scikeras) (1.2.2)\n",
            "Requirement already satisfied: packaging>=0.21 in /usr/local/lib/python3.9/dist-packages (from scikeras) (23.0)\n",
            "Requirement already satisfied: threadpoolctl>=2.0.0 in /usr/local/lib/python3.9/dist-packages (from scikit-learn>=1.0.0->scikeras) (3.1.0)\n",
            "Requirement already satisfied: joblib>=1.1.1 in /usr/local/lib/python3.9/dist-packages (from scikit-learn>=1.0.0->scikeras) (1.2.0)\n",
            "Requirement already satisfied: scipy>=1.3.2 in /usr/local/lib/python3.9/dist-packages (from scikit-learn>=1.0.0->scikeras) (1.10.1)\n",
            "Requirement already satisfied: numpy>=1.17.3 in /usr/local/lib/python3.9/dist-packages (from scikit-learn>=1.0.0->scikeras) (1.22.4)\n"
          ]
        }
      ]
    },
    {
      "cell_type": "markdown",
      "source": [
        "**Model architecture and creation**"
      ],
      "metadata": {
        "id": "9t7N1G1Uxiq7"
      }
    },
    {
      "cell_type": "code",
      "source": [
        "# define model architecture\n",
        "def create_model_classification(optimizer='adam'):\n",
        "    model = Sequential()\n",
        "    model.add(Dense(32, input_dim=X_train.shape[1], activation='relu'))\n",
        "    model.add(Dense(16, activation='relu'))\n",
        "    model.add(Dense(1, activation='sigmoid'))\n",
        "    model.compile(loss='binary_crossentropy', optimizer='adam', metrics=['accuracy'])\n",
        "    return model\n",
        "# create the model\n",
        "model = KerasClassifier(build_fn=create_model_classification, verbose=0)\n",
        "print(model)"
      ],
      "metadata": {
        "colab": {
          "base_uri": "https://localhost:8080/"
        },
        "id": "hejAFOFFxi10",
        "outputId": "360d4522-775f-4dc5-b540-7cb49a77893e"
      },
      "execution_count": 174,
      "outputs": [
        {
          "output_type": "stream",
          "name": "stdout",
          "text": [
            "KerasClassifier(\n",
            "\tmodel=None\n",
            "\tbuild_fn=<function create_model_classification at 0x7fce24cc0f70>\n",
            "\twarm_start=False\n",
            "\trandom_state=None\n",
            "\toptimizer=rmsprop\n",
            "\tloss=None\n",
            "\tmetrics=None\n",
            "\tbatch_size=None\n",
            "\tvalidation_batch_size=None\n",
            "\tverbose=0\n",
            "\tcallbacks=None\n",
            "\tvalidation_split=0.0\n",
            "\tshuffle=True\n",
            "\trun_eagerly=False\n",
            "\tepochs=1\n",
            "\tclass_weight=None\n",
            ")\n"
          ]
        }
      ]
    },
    {
      "cell_type": "markdown",
      "source": [
        "**Find the best parameters using grid search**"
      ],
      "metadata": {
        "id": "J_ZdneGWx7Yg"
      }
    },
    {
      "cell_type": "code",
      "source": [
        "from sklearn.metrics import accuracy_score, make_scorer\n",
        "\n",
        "# Define the scoring metric as accuracy\n",
        "scorer = make_scorer(accuracy_score)\n",
        "\n",
        "# Define the grid search parameters\n",
        "param_grid = {'batch_size': [32, 64],\n",
        "              'epochs': [50, 100]\n",
        "             }\n",
        "\n",
        "# Perform grid search to find the best hyperparameters\n",
        "grid = GridSearchCV(estimator=model, param_grid=param_grid, cv=3, n_jobs=-1, scoring=scorer)\n",
        "grid_result = grid.fit(X_train, y_train)\n",
        "\n",
        "# Print the best parameters\n",
        "print(f\"Best Parameters: {grid_result.best_params_}\")"
      ],
      "metadata": {
        "colab": {
          "base_uri": "https://localhost:8080/"
        },
        "id": "GdsSou36F3xO",
        "outputId": "5847b7fc-4c70-417e-e145-893f4905b820"
      },
      "execution_count": 175,
      "outputs": [
        {
          "output_type": "stream",
          "name": "stderr",
          "text": [
            "/usr/local/lib/python3.9/dist-packages/scikeras/wrappers.py:301: UserWarning: ``build_fn`` will be renamed to ``model`` in a future release, at which point use of ``build_fn`` will raise an Error instead.\n",
            "  warnings.warn(\n"
          ]
        },
        {
          "output_type": "stream",
          "name": "stdout",
          "text": [
            "Best Parameters: {'batch_size': 32, 'epochs': 100}\n"
          ]
        }
      ]
    },
    {
      "cell_type": "markdown",
      "source": [
        "**Fit the model with the best hyperparameters and make predictions using the test set**"
      ],
      "metadata": {
        "id": "Jtk6zvWtyCHh"
      }
    },
    {
      "cell_type": "code",
      "source": [
        "best_model = grid.best_estimator_\n",
        "best_model.fit(X_train, y_train, epochs=grid.best_params_['epochs'], batch_size=grid.best_params_['batch_size'], verbose=0, callbacks=[EarlyStopping(patience=10, restore_best_weights=True)])\n",
        "\n",
        "y_pred = best_model.predict(X_test)"
      ],
      "metadata": {
        "colab": {
          "base_uri": "https://localhost:8080/"
        },
        "id": "MblB3H3jyCOi",
        "outputId": "02aa7601-43d5-4393-bd7a-f7b73523e6a5"
      },
      "execution_count": 176,
      "outputs": [
        {
          "output_type": "stream",
          "name": "stderr",
          "text": [
            "/usr/local/lib/python3.9/dist-packages/scikeras/wrappers.py:301: UserWarning: ``build_fn`` will be renamed to ``model`` in a future release, at which point use of ``build_fn`` will raise an Error instead.\n",
            "  warnings.warn(\n"
          ]
        }
      ]
    },
    {
      "cell_type": "markdown",
      "source": [
        "**Print the confusion matrix and performance metrics (classification report)**"
      ],
      "metadata": {
        "id": "7PK70SsiyJQM"
      }
    },
    {
      "cell_type": "code",
      "source": [
        "from sklearn.metrics import classification_report, confusion_matrix\n",
        "print(confusion_matrix(y_test, y_pred))\n",
        "print(classification_report(y_test, y_pred))"
      ],
      "metadata": {
        "colab": {
          "base_uri": "https://localhost:8080/"
        },
        "id": "XZ9YTsjvyJYA",
        "outputId": "3259d1b2-b0cf-444c-b2aa-1cf13cf72623"
      },
      "execution_count": 177,
      "outputs": [
        {
          "output_type": "stream",
          "name": "stdout",
          "text": [
            "[[123  11]\n",
            " [ 16  50]]\n",
            "              precision    recall  f1-score   support\n",
            "\n",
            "           0       0.88      0.92      0.90       134\n",
            "           1       0.82      0.76      0.79        66\n",
            "\n",
            "    accuracy                           0.86       200\n",
            "   macro avg       0.85      0.84      0.84       200\n",
            "weighted avg       0.86      0.86      0.86       200\n",
            "\n"
          ]
        }
      ]
    },
    {
      "cell_type": "markdown",
      "source": [
        "**Display Feature Importance**"
      ],
      "metadata": {
        "id": "E8JMr7HYyK9Y"
      }
    },
    {
      "cell_type": "code",
      "source": [
        "import numpy as np\n",
        "from sklearn.inspection import permutation_importance\n",
        "import matplotlib.pyplot as plt\n",
        "\n",
        "def permutation_feature_importance(model, X, y, metric='accuracy', num_permutations=1000):\n",
        "    baseline_score = model.score(X, y)\n",
        "    feature_importances = []\n",
        "    for feature in X.columns:\n",
        "        X_permuted = X.copy()\n",
        "        X_permuted[feature] = np.random.permutation(X_permuted[feature])\n",
        "        permuted_score = model.score(X_permuted, y)\n",
        "        feature_importances.append(baseline_score - permuted_score)\n",
        "    sorted_importances = sorted(zip(feature_importances, X.columns), reverse=True)\n",
        "    importances, features = zip(*sorted_importances)\n",
        "    plt.barh(features, importances)\n",
        "    plt.xlabel(f\"Importance ({metric})\")\n",
        "    plt.show()\n",
        "\n",
        "permutation_feature_importance(best_model, X_train, y_train)\n"
      ],
      "metadata": {
        "colab": {
          "base_uri": "https://localhost:8080/",
          "height": 449
        },
        "id": "qIowtdPvJ1cA",
        "outputId": "5f500c9a-9ae0-41a6-f60b-0d32f92c329b"
      },
      "execution_count": 178,
      "outputs": [
        {
          "output_type": "display_data",
          "data": {
            "text/plain": [
              "<Figure size 640x480 with 1 Axes>"
            ],
            "image/png": "[encoded data removed]"
          },
          "metadata": {}
        }
      ]
    },
    {
      "cell_type": "markdown",
      "source": [
        "A positive value indicates that the feature is important for the model's performance, while a negative value indicates that the feature is not important, or even harmful, for the model's performance.\n",
        "\n"
      ],
      "metadata": {
        "id": "FgJv4YxGVoX-"
      }
    },
    {
      "cell_type": "markdown",
      "source": [
        "**Exercise 1**"
      ],
      "metadata": {
        "id": "ubVq3dIiUUQZ"
      }
    },
    {
      "cell_type": "markdown",
      "source": [
        "Use the following hyperparameter snippet for the tuning:"
      ],
      "metadata": {
        "id": "tvWpNjLSVjY1"
      }
    },
    {
      "cell_type": "code",
      "source": [
        "param_grid = {'batch_size': [32, 64, 128],\n",
        "              'epochs': [50, 100, 150],\n",
        "              }"
      ],
      "metadata": {
        "id": "2eOAglGgUWQX"
      },
      "execution_count": 179,
      "outputs": []
    }
  ]
}